{
 "cells": [
  {
   "cell_type": "markdown",
   "metadata": {},
   "source": [
    "# Contagem de pixels para medida de área de corpos de prova\n",
    "\n",
    "A área de silhueta de um corpo de prova de pouca espessura, pode ser uma medida análoga à área de superfície, por isso, este Notebook visa determinar a área de sihlueta de diferentes corpos de prova e fazer uma analise temporal da evolução destas áreas, a partir do tratamento de imagens destes corpos.\n",
    "\n",
    "O tratamento de imagem consiste em usar um filtro binário com limite determinado pelo algorítmo de Otsu e em seguida separar a maior borda (por área) dos elementos da imagem resultante, usando a função `findCountous()` da biblioteca de visão computacional, OpenCV.\n",
    "\n",
    "A partir da borda do elemento, é possível saber a área em pixels e, usando um objeto de referência, de área conhecida, determinar a área do corpo de prova.\n",
    "\n",
    "## Demonstração do método de contagem\n",
    "Primeiramente, importamos as bibliotecas necessárias."
   ]
  },
  {
   "cell_type": "code",
   "execution_count": 27,
   "metadata": {},
   "outputs": [],
   "source": [
    "import cv2\n",
    "import numpy as np\n",
    "from matplotlib import pyplot as plt"
   ]
  },
  {
   "cell_type": "markdown",
   "metadata": {},
   "source": [
    "A seguinte imagem será usada para demonstração:"
   ]
  },
  {
   "cell_type": "code",
   "execution_count": 28,
   "metadata": {},
   "outputs": [],
   "source": [
    "ex = 'amostras-mes5/S3.jpg'"
   ]
  },
  {
   "cell_type": "markdown",
   "metadata": {},
   "source": [
    "Importa a imagem em escala de cinza e binzariza ela usando o algoritmo de Otsu, para separar entre valores de luminosidade abaixo e acima de um limite conviniente determinado pelo algortimo."
   ]
  },
  {
   "cell_type": "code",
   "execution_count": 29,
   "metadata": {},
   "outputs": [
    {
     "data": {
      "image/png": "[encoded data removed]",
      "text/plain": [
       "<Figure size 432x288 with 1 Axes>"
      ]
     },
     "metadata": {
      "needs_background": "light"
     },
     "output_type": "display_data"
    }
   ],
   "source": [
    "imgarr = cv2.imread(ex, cv2.IMREAD_GRAYSCALE)\n",
    "\n",
    "_, binarie = cv2.threshold(src=imgarr, thresh=0, maxval=255, type=cv2.THRESH_BINARY | cv2.THRESH_OTSU)\n",
    "\n",
    "plt.imshow(binarie, 'gray')\n",
    "plt.show()"
   ]
  },
  {
   "cell_type": "markdown",
   "metadata": {},
   "source": [
    "Remoçao apenas da borda da amostra."
   ]
  },
  {
   "cell_type": "code",
   "execution_count": 30,
   "metadata": {},
   "outputs": [
    {
     "data": {
      "image/png": "[encoded data removed]",
      "text/plain": [
       "<Figure size 432x288 with 1 Axes>"
      ]
     },
     "metadata": {
      "needs_background": "light"
     },
     "output_type": "display_data"
    }
   ],
   "source": [
    "contours, _, = cv2.findContours(image=binarie, mode=cv2.RETR_EXTERNAL, method=cv2.CHAIN_APPROX_SIMPLE)\n",
    "cnt = max(contours, key=cv2.contourArea)\n",
    "# encontra a borda de maior área usando a função `cv2.contourArea()`\n",
    "\n",
    "contour_img = np.zeros_like(imgarr)  # nova imagem (matriz) vazia do tamnho da original\n",
    "cv2.drawContours(image=contour_img, contours=[cnt], contourIdx=-1, color=255, thickness=1)\n",
    "\n",
    "plt.imshow(contour_img, 'gray')\n",
    "plt.show()"
   ]
  },
  {
   "cell_type": "markdown",
   "metadata": {},
   "source": [
    "Para calcular a área dentro da borda, basta usar a função previamente utilizada, `cv2.contourArea()`."
   ]
  },
  {
   "cell_type": "code",
   "execution_count": 31,
   "metadata": {},
   "outputs": [
    {
     "data": {
      "text/plain": [
       "682793.5"
      ]
     },
     "execution_count": 31,
     "metadata": {},
     "output_type": "execute_result"
    }
   ],
   "source": [
    "cv2.contourArea(cnt)"
   ]
  },
  {
   "cell_type": "markdown",
   "metadata": {},
   "source": [
    "Podemos encapsular este processo numa função que retorna o número de pixels:"
   ]
  },
  {
   "cell_type": "code",
   "execution_count": 32,
   "metadata": {},
   "outputs": [],
   "source": [
    "def contar(path: str) -> int:\n",
    "    imgarr = cv2.imread(path, cv2.IMREAD_GRAYSCALE)\n",
    "\n",
    "    _, binarie = cv2.threshold(src=imgarr, thresh=0, maxval=255, type=cv2.THRESH_BINARY | cv2.THRESH_OTSU)\n",
    "\n",
    "    contours, _, = cv2.findContours(image=binarie, mode=cv2.RETR_EXTERNAL, method=cv2.CHAIN_APPROX_SIMPLE)\n",
    "    cnt = max(contours, key=cv2.contourArea)\n",
    "    # encontra a borda de maior área usando a função `cv2.contourArea()`\n",
    "    return cv2.contourArea(cnt)"
   ]
  },
  {
   "cell_type": "markdown",
   "metadata": {},
   "source": [
    "## Aplicação do método de contagem às imagens\n",
    "Primeiro iremos criar um dicionário com a chave sendo o caminho do arquivo das imagens e o valor o número de pixels."
   ]
  },
  {
   "cell_type": "code",
   "execution_count": 33,
   "metadata": {},
   "outputs": [],
   "source": [
    "from itertools import product"
   ]
  },
  {
   "cell_type": "code",
   "execution_count": 34,
   "metadata": {},
   "outputs": [],
   "source": [
    "arq = 'amostras-mes{}/{}.jpg'\n",
    "bases = [\n",
    "        # '{}',\n",
    "        'AL{}',\n",
    "        'AS{}',\n",
    "        'M{}',\n",
    "        'S{}',\n",
    "        'REF{}'\n",
    "        ]"
   ]
  },
  {
   "cell_type": "code",
   "execution_count": 35,
   "metadata": {},
   "outputs": [],
   "source": [
    "n_meses = 5\n",
    "results = {arq.format(mes, base.format(n)): 0 for mes, base, n in product(range(1, n_meses+1), bases, range(1, 3+1))}\n",
    "# cria um dicionário cujas chaves são preenchidas para cada mes num intervalo de 1 a n_meses, para todas\n",
    "# as bases de nome listadas anteriormente, para todos os valores de 1 a 3 (S1, S2, S3)"
   ]
  },
  {
   "cell_type": "markdown",
   "metadata": {},
   "source": [
    "Resultado:"
   ]
  },
  {
   "cell_type": "code",
   "execution_count": 36,
   "metadata": {},
   "outputs": [
    {
     "data": {
      "text/plain": [
       "{'amostras-mes1/AL1.jpg': 0,\n",
       " 'amostras-mes1/AL2.jpg': 0,\n",
       " 'amostras-mes1/AL3.jpg': 0,\n",
       " 'amostras-mes1/AS1.jpg': 0,\n",
       " 'amostras-mes1/AS2.jpg': 0,\n",
       " 'amostras-mes1/AS3.jpg': 0,\n",
       " 'amostras-mes1/M1.jpg': 0,\n",
       " 'amostras-mes1/M2.jpg': 0,\n",
       " 'amostras-mes1/M3.jpg': 0,\n",
       " 'amostras-mes1/S1.jpg': 0,\n",
       " 'amostras-mes1/S2.jpg': 0,\n",
       " 'amostras-mes1/S3.jpg': 0,\n",
       " 'amostras-mes1/REF1.jpg': 0,\n",
       " 'amostras-mes1/REF2.jpg': 0,\n",
       " 'amostras-mes1/REF3.jpg': 0,\n",
       " 'amostras-mes2/AL1.jpg': 0,\n",
       " 'amostras-mes2/AL2.jpg': 0,\n",
       " 'amostras-mes2/AL3.jpg': 0,\n",
       " 'amostras-mes2/AS1.jpg': 0,\n",
       " 'amostras-mes2/AS2.jpg': 0,\n",
       " 'amostras-mes2/AS3.jpg': 0,\n",
       " 'amostras-mes2/M1.jpg': 0,\n",
       " 'amostras-mes2/M2.jpg': 0,\n",
       " 'amostras-mes2/M3.jpg': 0,\n",
       " 'amostras-mes2/S1.jpg': 0,\n",
       " 'amostras-mes2/S2.jpg': 0,\n",
       " 'amostras-mes2/S3.jpg': 0,\n",
       " 'amostras-mes2/REF1.jpg': 0,\n",
       " 'amostras-mes2/REF2.jpg': 0,\n",
       " 'amostras-mes2/REF3.jpg': 0,\n",
       " 'amostras-mes3/AL1.jpg': 0,\n",
       " 'amostras-mes3/AL2.jpg': 0,\n",
       " 'amostras-mes3/AL3.jpg': 0,\n",
       " 'amostras-mes3/AS1.jpg': 0,\n",
       " 'amostras-mes3/AS2.jpg': 0,\n",
       " 'amostras-mes3/AS3.jpg': 0,\n",
       " 'amostras-mes3/M1.jpg': 0,\n",
       " 'amostras-mes3/M2.jpg': 0,\n",
       " 'amostras-mes3/M3.jpg': 0,\n",
       " 'amostras-mes3/S1.jpg': 0,\n",
       " 'amostras-mes3/S2.jpg': 0,\n",
       " 'amostras-mes3/S3.jpg': 0,\n",
       " 'amostras-mes3/REF1.jpg': 0,\n",
       " 'amostras-mes3/REF2.jpg': 0,\n",
       " 'amostras-mes3/REF3.jpg': 0,\n",
       " 'amostras-mes4/AL1.jpg': 0,\n",
       " 'amostras-mes4/AL2.jpg': 0,\n",
       " 'amostras-mes4/AL3.jpg': 0,\n",
       " 'amostras-mes4/AS1.jpg': 0,\n",
       " 'amostras-mes4/AS2.jpg': 0,\n",
       " 'amostras-mes4/AS3.jpg': 0,\n",
       " 'amostras-mes4/M1.jpg': 0,\n",
       " 'amostras-mes4/M2.jpg': 0,\n",
       " 'amostras-mes4/M3.jpg': 0,\n",
       " 'amostras-mes4/S1.jpg': 0,\n",
       " 'amostras-mes4/S2.jpg': 0,\n",
       " 'amostras-mes4/S3.jpg': 0,\n",
       " 'amostras-mes4/REF1.jpg': 0,\n",
       " 'amostras-mes4/REF2.jpg': 0,\n",
       " 'amostras-mes4/REF3.jpg': 0,\n",
       " 'amostras-mes5/AL1.jpg': 0,\n",
       " 'amostras-mes5/AL2.jpg': 0,\n",
       " 'amostras-mes5/AL3.jpg': 0,\n",
       " 'amostras-mes5/AS1.jpg': 0,\n",
       " 'amostras-mes5/AS2.jpg': 0,\n",
       " 'amostras-mes5/AS3.jpg': 0,\n",
       " 'amostras-mes5/M1.jpg': 0,\n",
       " 'amostras-mes5/M2.jpg': 0,\n",
       " 'amostras-mes5/M3.jpg': 0,\n",
       " 'amostras-mes5/S1.jpg': 0,\n",
       " 'amostras-mes5/S2.jpg': 0,\n",
       " 'amostras-mes5/S3.jpg': 0,\n",
       " 'amostras-mes5/REF1.jpg': 0,\n",
       " 'amostras-mes5/REF2.jpg': 0,\n",
       " 'amostras-mes5/REF3.jpg': 0}"
      ]
     },
     "execution_count": 36,
     "metadata": {},
     "output_type": "execute_result"
    }
   ],
   "source": [
    "results"
   ]
  },
  {
   "cell_type": "markdown",
   "metadata": {},
   "source": [
    "Precisa-se remover da lista algumas imagens que foram perdidas:"
   ]
  },
  {
   "cell_type": "code",
   "execution_count": 37,
   "metadata": {},
   "outputs": [],
   "source": [
    "def remover(base: str, mes: int):\n",
    "    for n in range(1, 3+1):\n",
    "        results.pop(arq.format(mes, base.format(n)))"
   ]
  },
  {
   "cell_type": "code",
   "execution_count": 38,
   "metadata": {},
   "outputs": [],
   "source": [
    "# remover(bases[3], 1)\n",
    "# remover(bases[0], 2)"
   ]
  },
  {
   "cell_type": "markdown",
   "metadata": {},
   "source": [
    "Agora basta aplicar a função `contar()` para todos os objetos do dicionário e depois converter os valores para áreas com base nas referências."
   ]
  },
  {
   "cell_type": "code",
   "execution_count": 39,
   "metadata": {},
   "outputs": [
    {
     "name": "stderr",
     "output_type": "stream",
     "text": [
      "[ WARN:0@174.501] global /io/opencv/modules/imgcodecs/src/loadsave.cpp (239) findDecoder imread_('amostras-mes1/REF1.jpg'): can't open/read file: check file path/integrity\n"
     ]
    },
    {
     "ename": "ValueError",
     "evalue": "max() arg is an empty sequence",
     "output_type": "error",
     "traceback": [
      "\u001b[0;31m---------------------------------------------------------------------------\u001b[0m",
      "\u001b[0;31mValueError\u001b[0m                                Traceback (most recent call last)",
      "\u001b[1;32m/home/icaro/Projects/contador-de-pixels/Contador_de_pixels.ipynb Cell 23\u001b[0m in \u001b[0;36m<cell line: 1>\u001b[0;34m()\u001b[0m\n\u001b[1;32m      <a href='vscode-notebook-cell:/home/icaro/Projects/contador-de-pixels/Contador_de_pixels.ipynb#X31sZmlsZQ%3D%3D?line=0'>1</a>\u001b[0m \u001b[39mfor\u001b[39;00m key \u001b[39min\u001b[39;00m results:\n\u001b[0;32m----> <a href='vscode-notebook-cell:/home/icaro/Projects/contador-de-pixels/Contador_de_pixels.ipynb#X31sZmlsZQ%3D%3D?line=1'>2</a>\u001b[0m     results[key] \u001b[39m=\u001b[39m contar(key)\n",
      "\u001b[1;32m/home/icaro/Projects/contador-de-pixels/Contador_de_pixels.ipynb Cell 23\u001b[0m in \u001b[0;36mcontar\u001b[0;34m(path)\u001b[0m\n\u001b[1;32m      <a href='vscode-notebook-cell:/home/icaro/Projects/contador-de-pixels/Contador_de_pixels.ipynb#X31sZmlsZQ%3D%3D?line=3'>4</a>\u001b[0m _, binarie \u001b[39m=\u001b[39m cv2\u001b[39m.\u001b[39mthreshold(src\u001b[39m=\u001b[39mimgarr, thresh\u001b[39m=\u001b[39m\u001b[39m0\u001b[39m, maxval\u001b[39m=\u001b[39m\u001b[39m255\u001b[39m, \u001b[39mtype\u001b[39m\u001b[39m=\u001b[39mcv2\u001b[39m.\u001b[39mTHRESH_BINARY \u001b[39m|\u001b[39m cv2\u001b[39m.\u001b[39mTHRESH_OTSU)\n\u001b[1;32m      <a href='vscode-notebook-cell:/home/icaro/Projects/contador-de-pixels/Contador_de_pixels.ipynb#X31sZmlsZQ%3D%3D?line=5'>6</a>\u001b[0m contours, _, \u001b[39m=\u001b[39m cv2\u001b[39m.\u001b[39mfindContours(image\u001b[39m=\u001b[39mbinarie, mode\u001b[39m=\u001b[39mcv2\u001b[39m.\u001b[39mRETR_EXTERNAL, method\u001b[39m=\u001b[39mcv2\u001b[39m.\u001b[39mCHAIN_APPROX_SIMPLE)\n\u001b[0;32m----> <a href='vscode-notebook-cell:/home/icaro/Projects/contador-de-pixels/Contador_de_pixels.ipynb#X31sZmlsZQ%3D%3D?line=6'>7</a>\u001b[0m cnt \u001b[39m=\u001b[39m \u001b[39mmax\u001b[39;49m(contours, key\u001b[39m=\u001b[39;49mcv2\u001b[39m.\u001b[39;49mcontourArea)\n\u001b[1;32m      <a href='vscode-notebook-cell:/home/icaro/Projects/contador-de-pixels/Contador_de_pixels.ipynb#X31sZmlsZQ%3D%3D?line=7'>8</a>\u001b[0m \u001b[39m# encontra a borda de maior área usando a função `cv2.contourArea()`\u001b[39;00m\n\u001b[1;32m      <a href='vscode-notebook-cell:/home/icaro/Projects/contador-de-pixels/Contador_de_pixels.ipynb#X31sZmlsZQ%3D%3D?line=8'>9</a>\u001b[0m \u001b[39mreturn\u001b[39;00m cv2\u001b[39m.\u001b[39mcontourArea(cnt)\n",
      "\u001b[0;31mValueError\u001b[0m: max() arg is an empty sequence"
     ]
    }
   ],
   "source": [
    "for key in results:\n",
    "    results[key] = contar(key)"
   ]
  },
  {
   "cell_type": "markdown",
   "metadata": {},
   "source": [
    "## Tratando os dados\n",
    "Resta comparar os corpos de prova com os objetos de referência de cada mês, para determinar as respectivas áreas. Depois calcular os desvios padrão, plotar os gráficos e calcular os coeficientes de correlação.\n",
    "\n",
    "Para começar, vamoos fazer uma lista de dicionários, onde cada dicionário corresponde aos meses, cada chave dos dicionários ao nome dos arquivos e cada valor, a área em $cm^2$."
   ]
  },
  {
   "cell_type": "code",
   "execution_count": null,
   "metadata": {},
   "outputs": [],
   "source": [
    "refs_area = [\n",
    "    {\n",
    "    bases[0].format(1): 2.6 * 2.6,\n",
    "    bases[0].format(2): 2.6 * 2.595,\n",
    "    bases[0].format(3): 2.6 * 2.6\n",
    "    },\n",
    "\n",
    "    {\n",
    "    bases[-1].format(1): 3 ** 2,  # REF1\n",
    "    bases[-1].format(2): 3 ** 2,  # '' 2\n",
    "    bases[-1].format(3): 3 ** 2   # etc\n",
    "    },\n",
    "\n",
    "    {\n",
    "    bases[-1].format(1): 3 ** 2,\n",
    "    bases[-1].format(2): 3 ** 2,\n",
    "    bases[-1].format(3): 3 ** 2\n",
    "    },\n",
    "\n",
    "    {\n",
    "    bases[-1].format(1): 3 ** 2,\n",
    "    bases[-1].format(2): 3 ** 2,\n",
    "    bases[-1].format(3): 3 ** 2\n",
    "    },\n",
    "\n",
    "    {\n",
    "    bases[-1].format(1): 3 ** 2,\n",
    "    bases[-1].format(2): 3 ** 2,\n",
    "    bases[-1].format(3): 3 ** 2\n",
    "    },\n",
    "]"
   ]
  },
  {
   "cell_type": "markdown",
   "metadata": {},
   "source": [
    "Para usar as referências de um mês como medida de área, basta caluclar a área por píxel $A_p$ de cada foto, fazendo $A_p=\\frac{Area}{\\#Pixels}$"
   ]
  },
  {
   "cell_type": "code",
   "execution_count": null,
   "metadata": {},
   "outputs": [],
   "source": [
    "def ap_mes(n: int):\n",
    "    mes = refs_area[n-1]\n",
    "    aps = [mes[k] / results[arq.format(n, k)] for k in mes]\n",
    "    \n",
    "    return np.mean(aps), np.std(aps)"
   ]
  },
  {
   "cell_type": "markdown",
   "metadata": {},
   "source": [
    "Sabendo $A_p$, basta multiplicar-lo pelos valores em `results` para determinar as respectivas áreas em $cm^2$."
   ]
  },
  {
   "cell_type": "code",
   "execution_count": null,
   "metadata": {},
   "outputs": [
    {
     "ename": "IndexError",
     "evalue": "list index out of range",
     "output_type": "error",
     "traceback": [
      "\u001b[0;31m---------------------------------------------------------------------------\u001b[0m",
      "\u001b[0;31mIndexError\u001b[0m                                Traceback (most recent call last)",
      "\u001b[1;32m/home/icaro/Projects/contador-de-pixels/Contador_de_pixels.ipynb Cell 29\u001b[0m in \u001b[0;36m<cell line: 2>\u001b[0;34m()\u001b[0m\n\u001b[1;32m      <a href='vscode-notebook-cell:/home/icaro/Projects/contador-de-pixels/Contador_de_pixels.ipynb#X40sZmlsZQ%3D%3D?line=1'>2</a>\u001b[0m \u001b[39mfor\u001b[39;00m k \u001b[39min\u001b[39;00m results:\n\u001b[1;32m      <a href='vscode-notebook-cell:/home/icaro/Projects/contador-de-pixels/Contador_de_pixels.ipynb#X40sZmlsZQ%3D%3D?line=2'>3</a>\u001b[0m     m \u001b[39m=\u001b[39m \u001b[39mint\u001b[39m(k\u001b[39m.\u001b[39msplit(\u001b[39m'\u001b[39m\u001b[39m/\u001b[39m\u001b[39m'\u001b[39m)[\u001b[39m0\u001b[39m][\u001b[39m-\u001b[39m\u001b[39m1\u001b[39m])  \u001b[39m# descobre o número do mês\u001b[39;00m\n\u001b[0;32m----> <a href='vscode-notebook-cell:/home/icaro/Projects/contador-de-pixels/Contador_de_pixels.ipynb#X40sZmlsZQ%3D%3D?line=3'>4</a>\u001b[0m     areas\u001b[39m.\u001b[39mappend(results[k] \u001b[39m*\u001b[39m ap_mes(m)[\u001b[39m0\u001b[39m])\n",
      "\u001b[1;32m/home/icaro/Projects/contador-de-pixels/Contador_de_pixels.ipynb Cell 29\u001b[0m in \u001b[0;36map_mes\u001b[0;34m(n)\u001b[0m\n\u001b[1;32m      <a href='vscode-notebook-cell:/home/icaro/Projects/contador-de-pixels/Contador_de_pixels.ipynb#X40sZmlsZQ%3D%3D?line=0'>1</a>\u001b[0m \u001b[39mdef\u001b[39;00m \u001b[39map_mes\u001b[39m(n: \u001b[39mint\u001b[39m):\n\u001b[0;32m----> <a href='vscode-notebook-cell:/home/icaro/Projects/contador-de-pixels/Contador_de_pixels.ipynb#X40sZmlsZQ%3D%3D?line=1'>2</a>\u001b[0m     mes \u001b[39m=\u001b[39m refs_area[n\u001b[39m-\u001b[39;49m\u001b[39m1\u001b[39;49m]\n\u001b[1;32m      <a href='vscode-notebook-cell:/home/icaro/Projects/contador-de-pixels/Contador_de_pixels.ipynb#X40sZmlsZQ%3D%3D?line=2'>3</a>\u001b[0m     aps \u001b[39m=\u001b[39m [mes[k] \u001b[39m/\u001b[39m results[arq\u001b[39m.\u001b[39mformat(n, k)] \u001b[39mfor\u001b[39;00m k \u001b[39min\u001b[39;00m mes]\n\u001b[1;32m      <a href='vscode-notebook-cell:/home/icaro/Projects/contador-de-pixels/Contador_de_pixels.ipynb#X40sZmlsZQ%3D%3D?line=4'>5</a>\u001b[0m     \u001b[39mreturn\u001b[39;00m np\u001b[39m.\u001b[39mmean(aps), np\u001b[39m.\u001b[39mstd(aps)\n",
      "\u001b[0;31mIndexError\u001b[0m: list index out of range"
     ]
    }
   ],
   "source": [
    "areas = []\n",
    "for k in results:\n",
    "    m = int(k.split('/')[0][-1])  # descobre o número do mês\n",
    "    areas.append(results[k] * ap_mes(m)[0])"
   ]
  },
  {
   "cell_type": "markdown",
   "metadata": {},
   "source": [
    "Visualização dos valores das áreas no eixo y:"
   ]
  },
  {
   "cell_type": "code",
   "execution_count": null,
   "metadata": {},
   "outputs": [
    {
     "data": {
      "text/plain": [
       "<matplotlib.collections.PathCollection at 0x7fbe3e76bca0>"
      ]
     },
     "execution_count": 43,
     "metadata": {},
     "output_type": "execute_result"
    },
    {
     "data": {
      "image/png": "[encoded data removed]",
      "text/plain": [
       "<Figure size 432x288 with 1 Axes>"
      ]
     },
     "metadata": {
      "needs_background": "light"
     },
     "output_type": "display_data"
    }
   ],
   "source": [
    "plt.scatter(np.arange(len(areas)), areas)"
   ]
  }
 ],
 "metadata": {
  "interpreter": {
   "hash": "916dbcbb3f70747c44a77c7bcd40155683ae19c65e1c03b4aa3499c5328201f1"
  },
  "kernelspec": {
   "display_name": "Python 3.8.10 64-bit",
   "language": "python",
   "name": "python3"
  },
  "language_info": {
   "codemirror_mode": {
    "name": "ipython",
    "version": 3
   },
   "file_extension": ".py",
   "mimetype": "text/x-python",
   "name": "python",
   "nbconvert_exporter": "python",
   "pygments_lexer": "ipython3",
   "version": "3.10.6"
  },
  "orig_nbformat": 4
 },
 "nbformat": 4,
 "nbformat_minor": 2
}
