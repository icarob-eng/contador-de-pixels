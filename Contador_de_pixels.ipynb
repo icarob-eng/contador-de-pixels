{
 "cells": [
  {
   "cell_type": "markdown",
   "metadata": {},
   "source": [
    "# Contagem de pixels para medida de área de corpos de prova\n",
    "\n",
    "A área de silhueta de um corpo de prova de pouca espessura, pode ser uma medida análoga à área de superfície, por isso, este Notebook visa determinar a área de sihlueta de diferentes corpos de prova e fazer uma analise temporal da evolução destas áreas, a partir do tratamento de imagens destes corpos.\n",
    "\n",
    "O tratamento de imagem consiste em usar um filtro binário com limite determinado pelo algorítmo de Otsu e em seguida separar a maior borda (por área) dos elementos da imagem resultante, usando a função `findCountous()` da biblioteca de visão computacional, OpenCV.\n",
    "\n",
    "A partir da borda do elemento, é possível saber a área em pixels e, usando um objeto de referência, de área conhecida, determinar a área do corpo de prova.\n",
    "\n",
    "## Demonstração do método de contagem\n",
    "Primeiramente, importamos as bibliotecas necessárias."
   ]
  },
  {
   "cell_type": "code",
   "execution_count": 1,
   "metadata": {},
   "outputs": [],
   "source": [
    "import cv2\n",
    "import numpy as np\n",
    "from matplotlib import pyplot as plt"
   ]
  },
  {
   "cell_type": "markdown",
   "metadata": {},
   "source": [
    "A seguinte imagem será usada para demonstração:"
   ]
  },
  {
   "cell_type": "code",
   "execution_count": 2,
   "metadata": {},
   "outputs": [],
   "source": [
    "ex = 'amostras-mes5/S3.jpg'"
   ]
  },
  {
   "cell_type": "markdown",
   "metadata": {},
   "source": [
    "Importa a imagem em escala de cinza e binzariza ela usando o algoritmo de Otsu, para separar entre valores de luminosidade abaixo e acima de um limite conviniente determinado pelo algortimo."
   ]
  },
  {
   "cell_type": "code",
   "execution_count": 3,
   "metadata": {},
   "outputs": [
    {
     "data": {
      "image/png": "[encoded data removed]",
      "text/plain": [
       "<Figure size 432x288 with 1 Axes>"
      ]
     },
     "metadata": {
      "needs_background": "light"
     },
     "output_type": "display_data"
    }
   ],
   "source": [
    "imgarr = cv2.imread(ex, cv2.IMREAD_GRAYSCALE)\n",
    "\n",
    "_, binarie = cv2.threshold(src=imgarr, thresh=0, maxval=255, type=cv2.THRESH_BINARY | cv2.THRESH_OTSU)\n",
    "\n",
    "plt.imshow(binarie, 'gray')\n",
    "plt.show()"
   ]
  },
  {
   "cell_type": "markdown",
   "metadata": {},
   "source": [
    "Remoçao apenas da borda da amostra."
   ]
  },
  {
   "cell_type": "code",
   "execution_count": 4,
   "metadata": {},
   "outputs": [
    {
     "data": {
      "image/png": "[encoded data removed]",
      "text/plain": [
       "<Figure size 432x288 with 1 Axes>"
      ]
     },
     "metadata": {
      "needs_background": "light"
     },
     "output_type": "display_data"
    }
   ],
   "source": [
    "contours, _, = cv2.findContours(image=binarie, mode=cv2.RETR_EXTERNAL, method=cv2.CHAIN_APPROX_SIMPLE)\n",
    "cnt = max(contours, key=cv2.contourArea)\n",
    "# encontra a borda de maior área usando a função `cv2.contourArea()`\n",
    "\n",
    "contour_img = np.zeros_like(imgarr)  # nova imagem (matriz) vazia do tamnho da original\n",
    "cv2.drawContours(image=contour_img, contours=[cnt], contourIdx=-1, color=255, thickness=1)\n",
    "\n",
    "plt.imshow(contour_img, 'gray')\n",
    "plt.show()"
   ]
  },
  {
   "cell_type": "markdown",
   "metadata": {},
   "source": [
    "Para calcular a área dentro da borda, basta usar a função previamente utilizada, `cv2.contourArea()`."
   ]
  },
  {
   "cell_type": "code",
   "execution_count": 5,
   "metadata": {},
   "outputs": [
    {
     "data": {
      "text/plain": [
       "682793.5"
      ]
     },
     "execution_count": 5,
     "metadata": {},
     "output_type": "execute_result"
    }
   ],
   "source": [
    "cv2.contourArea(cnt)"
   ]
  },
  {
   "cell_type": "markdown",
   "metadata": {},
   "source": [
    "Podemos encapsular este processo numa função que retorna o número de pixels:"
   ]
  },
  {
   "cell_type": "code",
   "execution_count": 6,
   "metadata": {},
   "outputs": [],
   "source": [
    "def contar(path: str) -> int:\n",
    "    imgarr = cv2.imread(path, cv2.IMREAD_GRAYSCALE)\n",
    "\n",
    "    _, binarie = cv2.threshold(src=imgarr, thresh=0, maxval=255, type=cv2.THRESH_BINARY | cv2.THRESH_OTSU)\n",
    "\n",
    "    contours, _, = cv2.findContours(image=binarie, mode=cv2.RETR_EXTERNAL, method=cv2.CHAIN_APPROX_SIMPLE)\n",
    "    cnt = max(contours, key=cv2.contourArea)\n",
    "    # encontra a borda de maior área usando a função `cv2.contourArea()`\n",
    "    return cv2.contourArea(cnt)"
   ]
  },
  {
   "cell_type": "markdown",
   "metadata": {},
   "source": [
    "## Aplicação do método de contagem às imagens\n",
    "Primeiro iremos criar um dicionário com a chave sendo o caminho do arquivo das imagens e o valor o número de pixels."
   ]
  },
  {
   "cell_type": "code",
   "execution_count": 7,
   "metadata": {},
   "outputs": [],
   "source": [
    "from itertools import product"
   ]
  },
  {
   "cell_type": "code",
   "execution_count": 8,
   "metadata": {},
   "outputs": [],
   "source": [
    "ARQ = 'amostras-mes{}/{}.jpg'\n",
    "BASES = [\n",
    "        '{}',\n",
    "        'AL{}',\n",
    "        'AS{}',\n",
    "        'M{}',\n",
    "        'S{}',\n",
    "        'REF{}'\n",
    "        ]"
   ]
  },
  {
   "cell_type": "code",
   "execution_count": 9,
   "metadata": {},
   "outputs": [],
   "source": [
    "n_meses = 5\n",
    "results = {ARQ.format(mes, base.format(n)): 0 for mes, base, n in product(range(1, n_meses+1), BASES, range(1, 3+1))}\n",
    "# cria um dicionário cujas chaves são preenchidas para cada mes num intervalo de 1 a n_meses, para todas\n",
    "# as bases de nome listadas anteriormente, para todos os valores de 1 a 3 (S1, S2, S3)"
   ]
  },
  {
   "cell_type": "markdown",
   "metadata": {},
   "source": [
    "Resultado:"
   ]
  },
  {
   "cell_type": "code",
   "execution_count": 10,
   "metadata": {},
   "outputs": [
    {
     "data": {
      "text/plain": [
       "{'amostras-mes1/1.jpg': 0,\n",
       " 'amostras-mes1/2.jpg': 0,\n",
       " 'amostras-mes1/3.jpg': 0,\n",
       " 'amostras-mes1/AL1.jpg': 0,\n",
       " 'amostras-mes1/AL2.jpg': 0,\n",
       " 'amostras-mes1/AL3.jpg': 0,\n",
       " 'amostras-mes1/AS1.jpg': 0,\n",
       " 'amostras-mes1/AS2.jpg': 0,\n",
       " 'amostras-mes1/AS3.jpg': 0,\n",
       " 'amostras-mes1/M1.jpg': 0,\n",
       " 'amostras-mes1/M2.jpg': 0,\n",
       " 'amostras-mes1/M3.jpg': 0,\n",
       " 'amostras-mes1/S1.jpg': 0,\n",
       " 'amostras-mes1/S2.jpg': 0,\n",
       " 'amostras-mes1/S3.jpg': 0,\n",
       " 'amostras-mes1/REF1.jpg': 0,\n",
       " 'amostras-mes1/REF2.jpg': 0,\n",
       " 'amostras-mes1/REF3.jpg': 0,\n",
       " 'amostras-mes2/1.jpg': 0,\n",
       " 'amostras-mes2/2.jpg': 0,\n",
       " 'amostras-mes2/3.jpg': 0,\n",
       " 'amostras-mes2/AL1.jpg': 0,\n",
       " 'amostras-mes2/AL2.jpg': 0,\n",
       " 'amostras-mes2/AL3.jpg': 0,\n",
       " 'amostras-mes2/AS1.jpg': 0,\n",
       " 'amostras-mes2/AS2.jpg': 0,\n",
       " 'amostras-mes2/AS3.jpg': 0,\n",
       " 'amostras-mes2/M1.jpg': 0,\n",
       " 'amostras-mes2/M2.jpg': 0,\n",
       " 'amostras-mes2/M3.jpg': 0,\n",
       " 'amostras-mes2/S1.jpg': 0,\n",
       " 'amostras-mes2/S2.jpg': 0,\n",
       " 'amostras-mes2/S3.jpg': 0,\n",
       " 'amostras-mes2/REF1.jpg': 0,\n",
       " 'amostras-mes2/REF2.jpg': 0,\n",
       " 'amostras-mes2/REF3.jpg': 0,\n",
       " 'amostras-mes3/1.jpg': 0,\n",
       " 'amostras-mes3/2.jpg': 0,\n",
       " 'amostras-mes3/3.jpg': 0,\n",
       " 'amostras-mes3/AL1.jpg': 0,\n",
       " 'amostras-mes3/AL2.jpg': 0,\n",
       " 'amostras-mes3/AL3.jpg': 0,\n",
       " 'amostras-mes3/AS1.jpg': 0,\n",
       " 'amostras-mes3/AS2.jpg': 0,\n",
       " 'amostras-mes3/AS3.jpg': 0,\n",
       " 'amostras-mes3/M1.jpg': 0,\n",
       " 'amostras-mes3/M2.jpg': 0,\n",
       " 'amostras-mes3/M3.jpg': 0,\n",
       " 'amostras-mes3/S1.jpg': 0,\n",
       " 'amostras-mes3/S2.jpg': 0,\n",
       " 'amostras-mes3/S3.jpg': 0,\n",
       " 'amostras-mes3/REF1.jpg': 0,\n",
       " 'amostras-mes3/REF2.jpg': 0,\n",
       " 'amostras-mes3/REF3.jpg': 0,\n",
       " 'amostras-mes4/1.jpg': 0,\n",
       " 'amostras-mes4/2.jpg': 0,\n",
       " 'amostras-mes4/3.jpg': 0,\n",
       " 'amostras-mes4/AL1.jpg': 0,\n",
       " 'amostras-mes4/AL2.jpg': 0,\n",
       " 'amostras-mes4/AL3.jpg': 0,\n",
       " 'amostras-mes4/AS1.jpg': 0,\n",
       " 'amostras-mes4/AS2.jpg': 0,\n",
       " 'amostras-mes4/AS3.jpg': 0,\n",
       " 'amostras-mes4/M1.jpg': 0,\n",
       " 'amostras-mes4/M2.jpg': 0,\n",
       " 'amostras-mes4/M3.jpg': 0,\n",
       " 'amostras-mes4/S1.jpg': 0,\n",
       " 'amostras-mes4/S2.jpg': 0,\n",
       " 'amostras-mes4/S3.jpg': 0,\n",
       " 'amostras-mes4/REF1.jpg': 0,\n",
       " 'amostras-mes4/REF2.jpg': 0,\n",
       " 'amostras-mes4/REF3.jpg': 0,\n",
       " 'amostras-mes5/1.jpg': 0,\n",
       " 'amostras-mes5/2.jpg': 0,\n",
       " 'amostras-mes5/3.jpg': 0,\n",
       " 'amostras-mes5/AL1.jpg': 0,\n",
       " 'amostras-mes5/AL2.jpg': 0,\n",
       " 'amostras-mes5/AL3.jpg': 0,\n",
       " 'amostras-mes5/AS1.jpg': 0,\n",
       " 'amostras-mes5/AS2.jpg': 0,\n",
       " 'amostras-mes5/AS3.jpg': 0,\n",
       " 'amostras-mes5/M1.jpg': 0,\n",
       " 'amostras-mes5/M2.jpg': 0,\n",
       " 'amostras-mes5/M3.jpg': 0,\n",
       " 'amostras-mes5/S1.jpg': 0,\n",
       " 'amostras-mes5/S2.jpg': 0,\n",
       " 'amostras-mes5/S3.jpg': 0,\n",
       " 'amostras-mes5/REF1.jpg': 0,\n",
       " 'amostras-mes5/REF2.jpg': 0,\n",
       " 'amostras-mes5/REF3.jpg': 0}"
      ]
     },
     "execution_count": 10,
     "metadata": {},
     "output_type": "execute_result"
    }
   ],
   "source": [
    "results"
   ]
  },
  {
   "cell_type": "markdown",
   "metadata": {},
   "source": [
    "Precisa-se remover da lista algumas imagens que foram perdidas:"
   ]
  },
  {
   "cell_type": "code",
   "execution_count": 11,
   "metadata": {},
   "outputs": [],
   "source": [
    "def remover(base: str, mes: int):\n",
    "    for n in range(1, 3+1):\n",
    "        results.pop(ARQ.format(mes, base.format(n)))"
   ]
  },
  {
   "cell_type": "code",
   "execution_count": 12,
   "metadata": {},
   "outputs": [],
   "source": [
    "remover(BASES[5], 1)  # remove REF\n",
    "remover(BASES[0], 2)  # remove {}\n",
    "remover(BASES[0], 3)\n",
    "remover(BASES[0], 4)\n",
    "remover(BASES[0], 5)"
   ]
  },
  {
   "cell_type": "markdown",
   "metadata": {},
   "source": [
    "Agora basta aplicar a função `contar()` para todos os objetos do dicionário e depois converter os valores para áreas com base nas referências."
   ]
  },
  {
   "cell_type": "code",
   "execution_count": 13,
   "metadata": {},
   "outputs": [],
   "source": [
    "for key in results:\n",
    "    results[key] = contar(key)"
   ]
  },
  {
   "cell_type": "markdown",
   "metadata": {},
   "source": [
    "## Tratando os dados\n",
    "Resta comparar os corpos de prova com os objetos de referência de cada mês, para determinar as respectivas áreas. Depois calcular os desvios padrão, plotar os gráficos e calcular os coeficientes de correlação.\n",
    "\n",
    "Para começar, vamoos fazer uma lista de dicionários, onde cada dicionário corresponde aos meses, cada chave dos dicionários ao nome dos arquivos e cada valor, a área em $cm^2$."
   ]
  },
  {
   "cell_type": "code",
   "execution_count": 14,
   "metadata": {},
   "outputs": [],
   "source": [
    "refs_REF = {\n",
    "    BASES[5].format(1): 3 ** 2,  # REF1\n",
    "    BASES[5].format(2): 3 ** 2,  # REF2\n",
    "    BASES[5].format(3): 3 ** 2  # REF3\n",
    "}\n",
    "refs_area = [\n",
    "    {\n",
    "        BASES[0].format(1): 2.6 * 2.6,\n",
    "        BASES[0].format(2): 2.6 * 2.595,\n",
    "        BASES[0].format(3): 2.6 * 2.6\n",
    "    },\n",
    "    refs_REF,  # utilizou-se a mesma referência\n",
    "    refs_REF,\n",
    "    refs_REF,\n",
    "    refs_REF\n",
    "]"
   ]
  },
  {
   "cell_type": "markdown",
   "metadata": {},
   "source": [
    "Para usar as referências de um mês como medida de área, basta caluclar a área por píxel $A_p$ de cada foto, fazendo $A_p=\\frac{Area}{\\#Pixels}$"
   ]
  },
  {
   "cell_type": "code",
   "execution_count": 15,
   "metadata": {},
   "outputs": [],
   "source": [
    "def ap_mes(n: int):\n",
    "    mes = refs_area[n-1]\n",
    "    aps = [mes[k] / results[ARQ.format(n, k)] for k in mes]\n",
    "    \n",
    "    return np.mean(aps), np.std(aps)"
   ]
  },
  {
   "cell_type": "markdown",
   "metadata": {},
   "source": [
    "Sabendo $A_p$, basta multiplicar-lo pelos valores em `results` para determinar as respectivas áreas em $cm^2$."
   ]
  },
  {
   "cell_type": "code",
   "execution_count": 16,
   "metadata": {},
   "outputs": [],
   "source": [
    "def get_base(path: str) -> str:\n",
    "    return path.split('/')[1].split('.')[0][:-1]\n",
    "\n",
    "\n",
    "def get_mes(path: str) -> str:\n",
    "    return int(path.split('/')[0][-1])"
   ]
  },
  {
   "cell_type": "code",
   "execution_count": 17,
   "metadata": {},
   "outputs": [],
   "source": [
    "areas = {}\n",
    "for k in results:\n",
    "    if get_base(k) != BASES[5][:-2]:  # garante que ref não será considerado\n",
    "        m = get_mes(k)\n",
    "        areas[k] = results[k] * ap_mes(m)[0]"
   ]
  },
  {
   "cell_type": "markdown",
   "metadata": {},
   "source": [
    "## Analisando os dados\n",
    "\n",
    "Por último, vamos tirar médias e desvios por trio de amostras por mês e plotar suas evoluções ao longo do tempo. Para começar juntamos todos os dados de um grupo ao longo dos meses em um único dicionário em que as chaves serão as bases e os valores vão ser ordenados como no exemplo: `S1(mes1), S2(mes1), S3(mes1), S1(mes2), S2(mes2), S3(mes2), ...`, assim, para achar um dado de índice e mês específico, basta fazer `(mes-1)*3 + id`."
   ]
  },
  {
   "cell_type": "code",
   "execution_count": 18,
   "metadata": {},
   "outputs": [],
   "source": [
    "areas_usadas = {k[:-2]: [] for k in BASES[1:-1]}  # cria um dicionário com chaves sendo as bases, excluindo '' e REF\n",
    "\n",
    "for k, v in areas.items():\n",
    "    base = get_base(k)\n",
    "    if '' != base != 'REF':\n",
    "        areas_usadas[base].append(v)"
   ]
  },
  {
   "cell_type": "markdown",
   "metadata": {},
   "source": [
    "Assim, podemos fazer uma estrutura parecida para médias e desvios padrão agrupando os itens das listas 3 a 3."
   ]
  },
  {
   "cell_type": "code",
   "execution_count": 19,
   "metadata": {},
   "outputs": [],
   "source": [
    "means = stds = {k[:-2]: [] for k in BASES[1:-1]}\n",
    "\n",
    "for k, vals in areas_usadas.items():\n",
    "    for i in range(0, len(vals), 3):  # itera a lista de valores 3 a 3\n",
    "        means[k].append(np.mean(vals[i:i+3]))\n",
    "        stds[k].append(np.std(vals[i:i+3]) / np.sqrt(3) * 2)  # insira expressão de propagação de erro"
   ]
  },
  {
   "cell_type": "code",
   "execution_count": 20,
   "metadata": {},
   "outputs": [],
   "source": [
    "def remove_evens(l: list):\n",
    "    return [v for v in l if l.index(v) % 2 == 0]\n",
    "\n",
    "means = {k: remove_evens(l) for k, l in means.items()}\n",
    "\n",
    "stds = {k: remove_evens(l) for k, l in stds.items()}"
   ]
  },
  {
   "cell_type": "markdown",
   "metadata": {},
   "source": [
    "Agora vamos plotar os dados:"
   ]
  },
  {
   "cell_type": "code",
   "execution_count": 21,
   "metadata": {},
   "outputs": [
    {
     "data": {
      "text/plain": [
       "<matplotlib.legend.Legend at 0x7ff5ea38f100>"
      ]
     },
     "execution_count": 21,
     "metadata": {},
     "output_type": "execute_result"
    },
    {
     "data": {
      "image/png": "[encoded data removed]",
      "text/plain": [
       "<Figure size 432x288 with 4 Axes>"
      ]
     },
     "metadata": {
      "needs_background": "light"
     },
     "output_type": "display_data"
    }
   ],
   "source": [
    "cores = ['tab:brown', 'tab:gray', 'tab:red', 'tab:cyan']\n",
    "\n",
    "keys = list(areas_usadas.keys())\n",
    "\n",
    "fig = plt.figure()\n",
    "gs = fig.add_gridspec(len(keys), hspace=0)\n",
    "axs = gs.subplots(sharex='col')  #, sharey='col)\n",
    "fig.suptitle('Degradação das amostras de PLA')\n",
    "fig.supxlabel('Tempo (??)')\n",
    "fig.supylabel('Área (cm^2)')\n",
    "\n",
    "for i in range(len(keys)):\n",
    "    t = range(n_meses)\n",
    "    axs[i].plot(t, means[keys[i]], color=cores[i], label=BASES[1:-1][i][:-2])\n",
    "    axs[i].errorbar(t, means[keys[i]], yerr=stds[keys[i]], fmt='.k')\n",
    "    axs[i].grid(linestyle='--')\n",
    "\n",
    "fig.legend(loc='center left', bbox_to_anchor=(.9,0.5))"
   ]
  }
 ],
 "metadata": {
  "interpreter": {
   "hash": "916dbcbb3f70747c44a77c7bcd40155683ae19c65e1c03b4aa3499c5328201f1"
  },
  "kernelspec": {
   "display_name": "Python 3.8.10 64-bit",
   "language": "python",
   "name": "python3"
  },
  "language_info": {
   "codemirror_mode": {
    "name": "ipython",
    "version": 3
   },
   "file_extension": ".py",
   "mimetype": "text/x-python",
   "name": "python",
   "nbconvert_exporter": "python",
   "pygments_lexer": "ipython3",
   "version": "3.10.6 (main, Nov 14 2022, 16:10:14) [GCC 11.3.0]"
  },
  "orig_nbformat": 4
 },
 "nbformat": 4,
 "nbformat_minor": 2
}
